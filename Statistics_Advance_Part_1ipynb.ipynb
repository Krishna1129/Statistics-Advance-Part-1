{
  "nbformat": 4,
  "nbformat_minor": 0,
  "metadata": {
    "colab": {
      "provenance": []
    },
    "kernelspec": {
      "name": "python3",
      "display_name": "Python 3"
    },
    "language_info": {
      "name": "python"
    }
  },
  "cells": [
    {
      "cell_type": "markdown",
      "source": [
        "#Statistics Advance Part 1"
      ],
      "metadata": {
        "id": "jWNs-gGQdgxW"
      }
    },
    {
      "cell_type": "markdown",
      "source": [
        "1. What is a random variable in probability theory?\n",
        "  - A random variable is something that can take different values based on chance. For example, when you roll a dice, the result (1 to 6) is a random variable."
      ],
      "metadata": {
        "id": "LlSd7wRSdhzR"
      }
    },
    {
      "cell_type": "markdown",
      "source": [
        "2. What are the types of random variables?\n",
        "    - There are two types:\n",
        "\n",
        "     Discrete – takes countable values like 1, 2, 3.\n",
        "\n",
        "     Continuous – takes any value in a range like 2.5, 3.1, etc."
      ],
      "metadata": {
        "id": "V13s_e7Fdh1e"
      }
    },
    {
      "cell_type": "markdown",
      "source": [
        "3. What is the difference between\n",
        "   - discrete and continuous distributions?\n",
        "\n",
        "    Discrete distribution is for values you can count (like number of kids).\n",
        "\n",
        "    Continuous distribution is for values you measure (like height or weight)."
      ],
      "metadata": {
        "id": "gz42PSEFdh31"
      }
    },
    {
      "cell_type": "markdown",
      "source": [
        "4. What are probability distribution functions (PDF)?\n",
        "    - A PDF shows how likely each value of a variable is. It helps us understand the chances of outcomes.\n",
        "\n"
      ],
      "metadata": {
        "id": "U9fBeRFYdh6M"
      }
    },
    {
      "cell_type": "markdown",
      "source": [
        "5. How do cumulative distribution functions (CDF) differ from probability distribution functions (PDF)?\n",
        "\n",
        "    - PDF tells the chance of one exact value.\n",
        "\n",
        "     CDF tells the chance that the value is less than or equal to a certain number.\n",
        "\n"
      ],
      "metadata": {
        "id": "qw3GABLddh8h"
      }
    },
    {
      "cell_type": "markdown",
      "source": [
        "6. What is a discrete uniform distribution?\n",
        "     - It means all values have the same chance. For example, in rolling a fair dice, each number (1–6) has an equal chance."
      ],
      "metadata": {
        "id": "MoiZ3rLHdiBu"
      }
    },
    {
      "cell_type": "markdown",
      "source": [
        "7. What are the key properties of a Bernoulli distribution?\n",
        "    - It has only two outcomes: success (1) or failure (0). It’s used for simple yes/no type results.\n",
        "\n"
      ],
      "metadata": {
        "id": "hNUzHQIsdiEv"
      }
    },
    {
      "cell_type": "markdown",
      "source": [
        "8. What is the binomial distribution, and how is it used in probability?\n",
        "    - It shows the chances of getting a certain number of successes in a fixed number of tries. For example, getting 3 heads in 5 coin tosses."
      ],
      "metadata": {
        "id": "PeUsmljcdiJU"
      }
    },
    {
      "cell_type": "markdown",
      "source": [
        "9. What is the Poisson distribution and where is it applied?\n",
        "    - It shows how many times an event happens in a fixed time or space. Example: number of emails you get in an hour."
      ],
      "metadata": {
        "id": "WMc1y62fdiL6"
      }
    },
    {
      "cell_type": "markdown",
      "source": [
        "10. What is a continuous uniform distribution?\n",
        "   - It means all values in a range are equally likely. Example: Getting any value between 1.0 and 2.0 has equal chance.\n",
        "\n"
      ],
      "metadata": {
        "id": "dAMVCTGUdiOg"
      }
    },
    {
      "cell_type": "markdown",
      "source": [
        "11. What are the characteristics of a normal distribution?\n",
        "    -  It looks like a bell curve. It is symmetric, most values are around the middle, and it is very common in real life (like height, marks, etc.)."
      ],
      "metadata": {
        "id": "3Xo09xPOdiQ-"
      }
    },
    {
      "cell_type": "markdown",
      "source": [
        "12. What is the standard normal distribution, and why is it important?\n",
        "     - It is a normal distribution with a mean of 0 and standard deviation of 1. It helps us compare different data easily.\n",
        "\n"
      ],
      "metadata": {
        "id": "SpeuD36NdiTR"
      }
    },
    {
      "cell_type": "markdown",
      "source": [
        "13. What is the Central Limit Theorem (CLT), and why is it critical in statistics?\n",
        "    - It says if you take many samples from any data, their average will be close to normal distribution. It helps in doing many statistical tests.\n",
        "\n"
      ],
      "metadata": {
        "id": "nSUXYGEudiXM"
      }
    },
    {
      "cell_type": "markdown",
      "source": [
        "14. How does the Central Limit Theorem relate to the normal distribution?\n",
        "    - Because of CLT, even if the data is not normal, the average of many samples becomes close to a normal shape."
      ],
      "metadata": {
        "id": "_Zt37LzbdiZx"
      }
    },
    {
      "cell_type": "markdown",
      "source": [
        "15. What is the application of Z statistics in hypothesis testing?\n",
        "    -  Z-statistics help us decide if something happened by chance or is actually different. It's used in testing ideas using data.\n",
        "\n"
      ],
      "metadata": {
        "id": "D72ZGd3Jdic4"
      }
    },
    {
      "cell_type": "markdown",
      "source": [
        "16. How do you calculate a Z-score, and what does it represent?\n",
        "    - Z-score = (value - mean) / standard deviation. It tells how far a value is from the average.\n",
        "\n"
      ],
      "metadata": {
        "id": "IvHh9uGydifX"
      }
    },
    {
      "cell_type": "markdown",
      "source": [
        "17. What are point estimates and interval estimates in statistics?\n",
        "\n",
        "    - Point estimate: One single value (like average height).\n",
        "\n",
        "     Interval estimate: A range of values (like between 160 cm to 170 cm).\n",
        "\n"
      ],
      "metadata": {
        "id": "HUQxDYLOdiiM"
      }
    },
    {
      "cell_type": "markdown",
      "source": [
        "18. What is the significance of confidence intervals in statistical analysis?\n",
        "    - Confidence interval shows the range where the true value is likely to be. It tells how sure we are about the result."
      ],
      "metadata": {
        "id": "uxmXBYRpdilD"
      }
    },
    {
      "cell_type": "markdown",
      "source": [
        "19. What is the relationship between a Z-score and a confidence interval?\n",
        "    - Z-score helps us find the confidence interval. Bigger Z-score means wider range and more certainty."
      ],
      "metadata": {
        "id": "brH0iBLIdinb"
      }
    },
    {
      "cell_type": "markdown",
      "source": [
        "20. How are Z-scores used to compare different distributions?\n",
        "    -  Z-scores turn different data into a standard form. This way, we can compare them even if they have different scales"
      ],
      "metadata": {
        "id": "M0mVCkEddiqC"
      }
    },
    {
      "cell_type": "markdown",
      "source": [
        "21. What are the assumptions for applying the Central Limit Theorem?\n",
        "\n",
        "    - Samples should be random.\n",
        "\n",
        "     Sample size should be big (usually more than 30).\n",
        "\n",
        "     Data should not be too skewed.\n",
        "\n"
      ],
      "metadata": {
        "id": "TGFwkBFrdist"
      }
    },
    {
      "cell_type": "markdown",
      "source": [
        "22. What is the concept of expected value in a probability distribution?\n",
        "    - Expected value is the average value you would get after many tries. Like the average winnings in a game."
      ],
      "metadata": {
        "id": "ouLI9Whmdivf"
      }
    },
    {
      "cell_type": "markdown",
      "source": [
        "23. How does the probability distribution relate to the expected outcome of a random variable?\n",
        "    - Probability distribution helps us calculate the expected outcome by showing the chances of each possible result."
      ],
      "metadata": {
        "id": "wrRa_PWGdixs"
      }
    }
  ]
}